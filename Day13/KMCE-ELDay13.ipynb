{
 "cells": [
  {
   "cell_type": "code",
   "execution_count": null,
   "metadata": {},
   "outputs": [
    {
     "name": "stdout",
     "output_type": "stream",
     "text": [
      "tensor([[0.9995, 0.9544, 0.9422, 0.4753, 0.4576, 0.6310],\n",
      "        [0.9544, 1.4950, 1.4754, 0.8434, 0.7070, 1.0865],\n",
      "        [0.9422, 1.4754, 1.4570, 0.8296, 0.7154, 1.0605],\n",
      "        [0.4753, 0.8434, 0.8296, 0.4937, 0.3474, 0.6565],\n",
      "        [0.4576, 0.7070, 0.7154, 0.3474, 0.6654, 0.2935],\n",
      "        [0.6310, 1.0865, 1.0605, 0.6565, 0.2935, 0.9450]])\n"
     ]
    }
   ],
   "source": [
    "import torch\n",
    "inputs=torch.tensor(\n",
    "    [[0.43,0.15,0.89],\n",
    "     [0.55,0.87,0.66],\n",
    "     [0.57,0.85,0.64],\n",
    "     [0.22,0.58,0.33],\n",
    "     [0.77,0.25,0.10],\n",
    "     [0.05,0.80,0.55]]\n",
    ")\n",
    "\n",
    "query=inputs[1]\n",
    "\"\"\" attn_scores=torch.empty(inputs.shape[0])\n",
    "for i,x_i in enumerate(inputs):\n",
    "    attn_scores[i]=torch.dot(x_i,query)\n",
    "print(attn_scores)\n",
    "attn_weights_tmp=attn_scores/attn_scores.sum()\n",
    "print(\"Attention Weights: \",attn_weights_tmp)\n",
    "print(\"Sum: \",attn_weights_tmp.sum())\n",
    "\n",
    "def softmax_naive(x):\n",
    "    return torch.exp(x)/torch.exp(x).sum(dim=0)\n",
    "attn_weights_softmax=softmax_naive(attn_scores)\n",
    "\n",
    "print(\"Attention weights: \", attn_weights_softmax)\n",
    "print(\"Sum: \",attn_weights_softmax.sum())\n",
    "\n",
    "attn_weights=torch.softmax(attn_scores,dim=0)\n",
    "print(\"Attention weights:\", attn_weights)\n",
    "print(\"Sum:\", attn_weights.sum())\n",
    "\n",
    "context_vec=torch.zeros(query.shape)\n",
    "for i,x_i in enumerate(inputs):\n",
    "    context_vec+=attn_scores[i] \"\"\"\n",
    "    \n",
    "attn_scores=inputs@inputs.T\n",
    "print(attn_scores)#attention\n",
    "\n",
    "df.set_index(\"date\",inplace=True)"
   ]
  }
 ],
 "metadata": {
  "kernelspec": {
   "display_name": "Python 3",
   "language": "python",
   "name": "python3"
  },
  "language_info": {
   "codemirror_mode": {
    "name": "ipython",
    "version": 3
   },
   "file_extension": ".py",
   "mimetype": "text/x-python",
   "name": "python",
   "nbconvert_exporter": "python",
   "pygments_lexer": "ipython3",
   "version": "3.12.6"
  }
 },
 "nbformat": 4,
 "nbformat_minor": 2
}
