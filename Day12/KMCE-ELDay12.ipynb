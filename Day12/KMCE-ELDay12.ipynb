{
 "cells": [
  {
   "cell_type": "markdown",
   "metadata": {},
   "source": [
    "Attention adapts the auto-encoder concepts. ANN is based on the Disciminative Analysis. We work on the limited output only. Auto encoders are used for Generative AI. Encoder, Context Vector, Decoder,. Regenerate or Classify or the input."
   ]
  }
 ],
 "metadata": {
  "language_info": {
   "name": "python"
  }
 },
 "nbformat": 4,
 "nbformat_minor": 2
}
