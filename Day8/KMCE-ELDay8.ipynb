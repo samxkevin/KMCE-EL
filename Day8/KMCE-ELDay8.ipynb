{
 "cells": [
  {
   "cell_type": "markdown",
   "metadata": {},
   "source": [
    "weights explosion in Neural network, series wing or sequence data, Timeseries or sensor data stock price are some examples for sequence data. \n",
    "\n",
    "When coming to sensordata sequence data is crucial because it can prevent the occurences of catastrophic events. \n",
    "\n",
    "Feed forward neural networks vs RNNS or other  sequential Neural network\n",
    "\n",
    "Explain some Sequential Neural networks.\n",
    "\n",
    "Explain some traditional Neural network (like feed forward neural networks)(CNN,DNN,DBN)(No loops, Decisions are based on current input)\n",
    "Limitations of traditional Neural Networks(cannot handle sequential data, cosiders only the current input,cannot memorize the previous input)\n",
    "\n",
    "Recurrent Neural Networks in detail(feedback mechanism)(Sir gave an example of Movie review positive or negitive), nodes are compressed why?, Current time x(t), previous time h(t-1), Parameters A,B,C, Standardising different activation functions, Application like Time series, Text mining(opinion mining), Machine Translation, Vanilla algorithms, many to many, Two Issues of RNN (Vanishing Gradient and Exploding Gradient), Solution Long term dependencies, batch_First=True makes the batches, hidden state of the network, equation for h_t for a node and u_t, Backpropagation 2 time\n",
    "\n",
    "Some Variant RNN Architectures\n",
    "\n",
    "LSTM(3 gates) in detail\n",
    "\n",
    "Attention mechanisms in detail\n",
    "\n",
    "Transformers in detail\n",
    "\n",
    "TF-IDF vectorizer, corpus(collection of documents), Why to use inverse document frequency\n",
    "\n",
    "Sentimental Analysis using RNN\n",
    "\n",
    "RNN doesn't perform any gradient descent optimizations ... but infact does...?"
   ]
  },
  {
   "cell_type": "code",
   "execution_count": 4,
   "metadata": {},
   "outputs": [
    {
     "data": {
      "text/html": [
       "<div>\n",
       "<style scoped>\n",
       "    .dataframe tbody tr th:only-of-type {\n",
       "        vertical-align: middle;\n",
       "    }\n",
       "\n",
       "    .dataframe tbody tr th {\n",
       "        vertical-align: top;\n",
       "    }\n",
       "\n",
       "    .dataframe thead th {\n",
       "        text-align: right;\n",
       "    }\n",
       "</style>\n",
       "<table border=\"1\" class=\"dataframe\">\n",
       "  <thead>\n",
       "    <tr style=\"text-align: right;\">\n",
       "      <th></th>\n",
       "      <th>review</th>\n",
       "      <th>sentiment</th>\n",
       "    </tr>\n",
       "  </thead>\n",
       "  <tbody>\n",
       "    <tr>\n",
       "      <th>0</th>\n",
       "      <td>Dick Clement and Ian La Frenais have a solid h...</td>\n",
       "      <td>positive</td>\n",
       "    </tr>\n",
       "    <tr>\n",
       "      <th>1</th>\n",
       "      <td>When I checked out the review for this film af...</td>\n",
       "      <td>negative</td>\n",
       "    </tr>\n",
       "    <tr>\n",
       "      <th>2</th>\n",
       "      <td>This is an in-name-only sequel to \"A Christmas...</td>\n",
       "      <td>negative</td>\n",
       "    </tr>\n",
       "    <tr>\n",
       "      <th>3</th>\n",
       "      <td>Like most people out there who have watched Ja...</td>\n",
       "      <td>positive</td>\n",
       "    </tr>\n",
       "    <tr>\n",
       "      <th>4</th>\n",
       "      <td>I was fortunate enough to be an extra in this ...</td>\n",
       "      <td>positive</td>\n",
       "    </tr>\n",
       "    <tr>\n",
       "      <th>5</th>\n",
       "      <td>In yet another case of misleading marketing, t...</td>\n",
       "      <td>negative</td>\n",
       "    </tr>\n",
       "    <tr>\n",
       "      <th>6</th>\n",
       "      <td>I'm not exactly sure why I ordered \"Fingersmit...</td>\n",
       "      <td>positive</td>\n",
       "    </tr>\n",
       "    <tr>\n",
       "      <th>7</th>\n",
       "      <td>So often these \"Lifetime\" flicks are one-dimen...</td>\n",
       "      <td>positive</td>\n",
       "    </tr>\n",
       "  </tbody>\n",
       "</table>\n",
       "</div>"
      ],
      "text/plain": [
       "                                              review sentiment\n",
       "0  Dick Clement and Ian La Frenais have a solid h...  positive\n",
       "1  When I checked out the review for this film af...  negative\n",
       "2  This is an in-name-only sequel to \"A Christmas...  negative\n",
       "3  Like most people out there who have watched Ja...  positive\n",
       "4  I was fortunate enough to be an extra in this ...  positive\n",
       "5  In yet another case of misleading marketing, t...  negative\n",
       "6  I'm not exactly sure why I ordered \"Fingersmit...  positive\n",
       "7  So often these \"Lifetime\" flicks are one-dimen...  positive"
      ]
     },
     "execution_count": 4,
     "metadata": {},
     "output_type": "execute_result"
    }
   ],
   "source": [
    "import pandas as pd\n",
    "df=pd.read_csv('P:\\\\KMCE-EL\\\\Day8\\\\Solved Exercise\\\\IMDB_Small_Dataset.csv')\n",
    "df.head(8)"
   ]
  },
  {
   "cell_type": "code",
   "execution_count": null,
   "metadata": {},
   "outputs": [],
   "source": [
    "from sklearn.feature_extraction.text import"
   ]
  }
 ],
 "metadata": {
  "kernelspec": {
   "display_name": "Python 3",
   "language": "python",
   "name": "python3"
  },
  "language_info": {
   "codemirror_mode": {
    "name": "ipython",
    "version": 3
   },
   "file_extension": ".py",
   "mimetype": "text/x-python",
   "name": "python",
   "nbconvert_exporter": "python",
   "pygments_lexer": "ipython3",
   "version": "3.12.6"
  }
 },
 "nbformat": 4,
 "nbformat_minor": 2
}
