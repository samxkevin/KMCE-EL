{
 "cells": [
  {
   "cell_type": "markdown",
   "metadata": {},
   "source": [
    "`device=\"device\"if torch.cude.is_available() else \"cpu\"` is the code stub for making the tensors to be estimated by GPU if there is a GPU else we use CPU.\n",
    "\n",
    "We move Tensors between cpu and gpu by `torch.to()` method.\n",
    "\n",
    "Basic indexing in tensor syntax: `x[row_index,column_index]` and slicing:???\n",
    "\n",
    "Autograd???\n",
    "\n",
    "requires_grad=True, .backward() are two different attributes and methods respectively to be implemented during computation of gradients.\n",
    "\n",
    "Dataloader divides the Datasets into different batches (more efficient for huge datasets). PyzTorchViz visualizes the computation graph. Various methods in nn(MSE,BCE,Optimizer,SGD)(nn.MSEloss)???\n",
    "\n",
    "need to zero out after each computation ???(torch.no_grad())\n",
    "\n",
    "Autograd module comes into picture when we are computing the gradients after backward propagation. (does forward too)\n",
    "\n",
    "For creating neural networks we use `torch.nn` package, nn.module has methods and layers.\n",
    "\n",
    "Training algorithm input,calculate loss,back propagation, update weights. nn.Parameter for the weights.???\n",
    "\n",
    "How to make use of Dataloader in PyTorch??? Dataloader works as a iterator. Random_Split for train val set for dataloader.\n",
    "\n",
    "Evaluation: torch.no_grad-,eval(), .transforms() does normalization of the DATA???\n",
    "\n",
    "np.transpose() Rearranges dimensions to (height,widht,channels) to put channels at first.\n",
    "\n",
    "labels of a dataset is called as 'class' of the dataset which is the category of the dataset.\n",
    "\n",
    "Deep learning frameworks (pytorch, tensor flow) Changes in the channels. adagrad,rmsprop???, sklearn dataset, shuffle=True and random.seed(),torch.manual_seed()"
   ]
  },
  {
   "cell_type": "code",
   "execution_count": null,
   "metadata": {
    "vscode": {
     "languageId": "plaintext"
    }
   },
   "outputs": [],
   "source": []
  }
 ],
 "metadata": {
  "language_info": {
   "name": "python"
  }
 },
 "nbformat": 4,
 "nbformat_minor": 2
}
