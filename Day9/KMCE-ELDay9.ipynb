{
 "cells": [
  {
   "cell_type": "markdown",
   "metadata": {},
   "source": [
    "Case Studies\n",
    "\n",
    "Student performnace analysis to identify the grade- set a sample data. We have to find the find the input variables alaso called the features like (Study Hours, Sleep, Socioeconomic Score, Attendance%)[Dataset from Kaggle] and also identify the output variables which is the grade(in the range of 32.0 to 91.0). Based on the data give the problem we have encountered is a regression model. Possible Models for this are Linear Regression,Multiple regression, Polynomial, support vector, decision tree, etc., and the Architecture of the ANN then the Loss functions are considered for the ANN. Use nn.MSELoss() in PyTorch, Selecting the optimizer: (eg: Adam). The number of neurons to be is notimportan to be fixed but after research LENet, VGG16 were set with particular(Fixed) number of neurons.Input is not considered as a layer in the Neural Network but not Output.\n",
    " Pandas is for tabular data handling and numpy is for numerical data handling, .unsqueeze set the row matrix to column matrix.\n",
    "  `.backward()` computes the weights"
   ]
  }
 ],
 "metadata": {
  "language_info": {
   "name": "python"
  }
 },
 "nbformat": 4,
 "nbformat_minor": 2
}
