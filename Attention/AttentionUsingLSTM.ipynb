{
 "cells": [
  {
   "cell_type": "code",
   "execution_count": null,
   "metadata": {},
   "outputs": [
    {
     "name": "stdout",
     "output_type": "stream",
     "text": [
      "   sentiment  content\n",
      "0          2    17636\n",
      "1         10    26025\n",
      "2         10    21034\n",
      "3          3    39077\n",
      "4          8     9574\n"
     ]
    }
   ],
   "source": [
    "\"\"\" import torch\n",
    "import torch.nn as nn\n",
    "import torch.optim as optim\n",
    "import numpy as np\n",
    "from sklearn.model_selection import train_test_split\n",
    "from torch.utils.data import DataLoader,TensorDataset\n",
    "import numpy as np\n",
    "import re\n",
    "from gensim.models import Word2Vec\n",
    " \"\"\"\n",
    "\n",
    "import pandas as pd\n",
    "data=pd.read_csv(r\"P:\\KMCE-EL\\Attention\\tweet_emotions - tweet_emotions.csv\")\n",
    "data.columns\n",
    "\n",
    "data['tweet_id']=data['tweet_id'].astype('category')\n",
    "data['sentiment']=data['sentiment'].astype('category')\n",
    "data['content']=data['content'].astype('category')\n",
    "\n",
    "columns=data.columns\n",
    "data1=pd.DataFrame()\n",
    "for col in columns:\n",
    "    if data[col].dtype == 'category':\n",
    "        data1[col]=data[col].cat.codes\n",
    "    else:\n",
    "        data1[col]=data[col]\n",
    "\n",
    "data=data1.drop('tweet_id',axis=1)\n",
    "\n",
    "def tokenize(data):\n",
    "    return data.lower().split()\n",
    "tokenized_text=tokenize(data)"
   ]
  }
 ],
 "metadata": {
  "kernelspec": {
   "display_name": "Python 3",
   "language": "python",
   "name": "python3"
  },
  "language_info": {
   "codemirror_mode": {
    "name": "ipython",
    "version": 3
   },
   "file_extension": ".py",
   "mimetype": "text/x-python",
   "name": "python",
   "nbconvert_exporter": "python",
   "pygments_lexer": "ipython3",
   "version": "3.12.6"
  }
 },
 "nbformat": 4,
 "nbformat_minor": 2
}
