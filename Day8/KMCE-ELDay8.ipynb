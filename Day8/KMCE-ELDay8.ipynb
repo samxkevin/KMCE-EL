{
 "cells": [
  {
   "cell_type": "markdown",
   "metadata": {},
   "source": [
    "weights explosion in Neural network, series wing or sequence data, Timeseries or sensor data stock price are some examples for sequence data. \n",
    "\n",
    "When coming to sensordata sequence data is crucial because it can prevent the occurences of catastrophic events. \n",
    "\n",
    "Feed forward neural networks vs RNNS or other  sequential Neural network\n",
    "\n",
    "Explain some Sequential Neural networks.\n",
    "\n",
    "Explain some traditional Neural network (like feed forward neural networks)(CNN,DNN,DBN)(No loops, Decisions are based on current input)\n",
    "Limitations of traditional Neural Networks(cannot handle sequential data, cosiders only the current input,cannot memorize the previous input)\n",
    "\n",
    "Recurrent Neural Networks in detail(feedback mechanism)(Sir gave an example of Movie review positive or negitive), nodes are compressed why?, Current time x(t), previous time h(t-1), Parameters A,B,C, Standardising different activation functions, Application like Time series, Text mining(opinion mining), Machine Translation, Vanilla algorithms, many to many, Two Issues of RNN (Vanishing Gradient and Exploding Gradient), Solution Long term dependencies, batch_First=True makes the batches, hidden state of the network, equation for h_t for a node and u_t, Backpropagation 2 time\n",
    "\n",
    "Some Variant RNN Architectures\n",
    "\n",
    "LSTM(3 gates) in detail\n",
    "\n",
    "Attention mechanisms in detail\n",
    "\n",
    "Transformers in detail"
   ]
  }
 ],
 "metadata": {
  "language_info": {
   "name": "python"
  }
 },
 "nbformat": 4,
 "nbformat_minor": 2
}
